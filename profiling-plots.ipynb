{
 "cells": [
  {
   "cell_type": "markdown",
   "id": "4edaa960-2d21-46c8-84de-e67018a67897",
   "metadata": {
    "editable": false,
    "slideshow": {
     "slide_type": "slide"
    },
    "tags": []
   },
   "source": [
    "# Introduction"
   ]
  },
  {
   "cell_type": "markdown",
   "id": "9bca4bf3-bdeb-423e-b6d8-9acf0285c96d",
   "metadata": {
    "editable": true,
    "slideshow": {
     "slide_type": "fragment"
    },
    "tags": []
   },
   "source": [
    "`MESH` has been compiled in serial mode with `netcdf` capability against the following libraries on [Digital Research Alliance of Canada's (DRA) Graham](https://docs.alliancecan.ca/wiki/Graham):\n",
    "1. `intel/2020.1.217` Fortran `ifort` compiler,\n",
    "2. `netcdf-fortran/4.5.2`,\n",
    "3. `netcdf/4.7.4`, and\n",
    "4. `hdf5/1.10.0`.\n",
    "\n",
    "Two versions of `MESH` have been compiled, namely [`r1773`](https://github.com/MESH-Model/MESH-Dev/releases/tag/SA_MESH_1.4%2FSA_MESH_1.4.1773) (commit [75d48bd](https://github.com/MESH-Model/MESH-Dev/commit/75d48bdd0fe181cd891ee8edeab49c0eae3521e6)) and [`r1860ME`](https://github.com/MESH-Model/MESH_Code) (commit [52c7367](https://github.com/MESH-Model/MESH_Code/commit/52c73678ef604c32844926bb95a8dfe01ea88f82)). Both have been profiled using Intel's `vtune/2020.1` profiler on DRA Graham."
   ]
  },
  {
   "cell_type": "markdown",
   "id": "8442cdfe-4895-4a4c-9522-0cc8ea4764c4",
   "metadata": {
    "editable": true,
    "slideshow": {
     "slide_type": "slide"
    },
    "tags": []
   },
   "source": [
    "# Issues encountered"
   ]
  },
  {
   "cell_type": "markdown",
   "id": "2aa80966-7823-48e0-932d-4ab867f9935e",
   "metadata": {
    "editable": true,
    "slideshow": {
     "slide_type": "subslide"
    },
    "tags": []
   },
   "source": [
    "1. [`r1860ME`](https://github.com/MESH-Model/MESH_Code) (latest commit [52c7367](https://github.com/MESH-Model/MESH_Code/commit/52c73678ef604c32844926bb95a8dfe01ea88f82)) compiles successfully but raises the following runtime error running any `MESH` model setup if the `ns` value is assigned to `BASINAVGWBFILEFLAG` flag of the `MESH_input_run_options.ini` file,\n"
   ]
  },
  {
   "cell_type": "markdown",
   "id": "f10b00fa-bdb8-498f-aa98-d22cf5bf4028",
   "metadata": {
    "editable": true,
    "slideshow": {
     "slide_type": "fragment"
    },
    "tags": []
   },
   "source": [
    "    WARNING: NON-CONVERGENCE AT POINT AT X,Y:   4873     1\n",
    "    WARNING: NON-CONVERGENCE AT POINT AT X,Y:   4873     1\n",
    "    WARNING: NON-CONVERGENCE AT POINT AT X,Y:   4873     1\n",
    "    WARNING: NON-CONVERGENCE AT POINT AT X,Y:   4873     1\n",
    "    WARNING: NON-CONVERGENCE AT POINT AT X,Y:   4873     1\n",
    "    WARNING: NON-CONVERGENCE AT POINT AT X,Y:   4215     1\n",
    "    WARNING: NON-CONVERGENCE AT POINT AT X,Y:   4873     1\n",
    "    WARNING: NON-CONVERGENCE AT POINT AT X,Y:   4873     1\n",
    "    WARNING: NON-CONVERGENCE AT POINT AT X,Y:   4873     1\n",
    "    WARNING: NON-CONVERGENCE AT POINT AT X,Y:   4873     1\n",
    "    WARNING: NON-CONVERGENCE AT POINT AT X,Y:   4873     1\n",
    "    WARNING: NON-CONVERGENCE AT POINT AT X,Y:   4873     1\n",
    "    WARNING: NON-CONVERGENCE AT POINT AT X,Y:   4873     1\n",
    "    WARNING: NON-CONVERGENCE AT POINT AT X,Y:   4873     1\n",
    "    forrtl: severe (174): SIGSEGV, segmentation fault occurred\n",
    "    Image              PC                Routine            Line        Source             \n",
    "    sa_mesh_1860me_se  0000000000B51A3A  Unknown               Unknown  Unknown\n",
    "    libpthread-2.30.s  00002AEA3960A0F0  Unknown               Unknown  Unknown\n",
    "    sa_mesh_1860me_se  0000000000AA9BF6  save_basin_output        1376  save_basin_output.f90\n",
    "    sa_mesh_1860me_se  0000000000AA1DB8  save_basin_output         766  save_basin_output.f90\n",
    "    sa_mesh_1860me_se  0000000000B2191E  MAIN__                   1031  MESH_driver.f90\n",
    "    sa_mesh_1860me_se  000000000040CC12  Unknown               Unknown  Unknown\n",
    "    libc-2.30.so       00002AEA3963CE1B  __libc_start_main     Unknown  Unknown\n",
    "    sa_mesh_1860me_se  000000000040CB2A  Unknown               Unknown  Unknown"
   ]
  },
  {
   "cell_type": "markdown",
   "id": "81711421-6a7a-4893-aa11-40e311f3d843",
   "metadata": {
    "editable": true,
    "slideshow": {
     "slide_type": "subslide"
    },
    "tags": []
   },
   "source": [
    "2. [`r1860ME`](https://github.com/MESH-Model/MESH_Code) (older commit [b7f23d1](https://github.com/MESH-Model/MESH_Code/commit/b7f23d1922511b52f7922d7c2ab99b277f2fa167)) does not exhibit any issues with the `ns` flag in `MESH` model setups and runs successfully."
   ]
  },
  {
   "cell_type": "markdown",
   "id": "babc0f7c-319b-4aa9-9686-2c7100c4e239",
   "metadata": {
    "editable": true,
    "slideshow": {
     "slide_type": "subslide"
    },
    "tags": []
   },
   "source": [
    "3. [`r1860ME`](https://github.com/MESH-Model/MESH_Code) (latest commit [52c7367](https://github.com/MESH-Model/MESH_Code/commit/52c73678ef604c32844926bb95a8dfe01ea88f82)) compiles successfully with `gfortran/9.3.0` compiler (with relevant dependencies), but echoes the following runtime error running any `MESH` model setup:"
   ]
  },
  {
   "cell_type": "markdown",
   "id": "df4095bf-5a75-47ee-b6e3-198cb5fe420d",
   "metadata": {
    "editable": true,
    "slideshow": {
     "slide_type": "fragment"
    },
    "tags": []
   },
   "source": [
    "    RUNCLASS36 is active.\n",
    "    ICEBAL_FREEZE_THRESHOLD (FREZTH) override is ACTIVE.\n",
    "    Uniform value:    -2.000000\n",
    "    ICEBAL_SWE_LIMIT (SWELIM) override is ACTIVE.\n",
    "    Uniform value:     100.0000\n",
    "    ICEBAL_SNOW_DENSITY_LIMIT (SNDENLIM) override is ACTIVE.\n",
    "    Uniform value:     900.0000\n",
    "    BASEFLOW component is ACTIVE.\n",
    "     BASEFLOWFLAG  wf_lzs grid hf=60\n",
    "             pwr_iak    2.203000\n",
    "             flz_iak   0.2800000E-04\n",
    "    \n",
    "    Program received signal SIGSEGV: Segmentation fault - invalid memory reference.\n",
    "    \n",
    "    Backtrace for this error:\n",
    "    #0  0x2b8dd7c99730 in ???\n",
    "    #1  0x2b8dd7c988d5 in ???\n",
    "    #2  0x2b8dd813497f in ???\n",
    "    #3  0x605e24 in __output_variables_MOD_output_variables_group_update_ts\n",
    "    at ./Driver/MESH_Driver/output_variables.f90:1389\n",
    "    #4  0x602d21 in __output_variables_MOD_output_variables_update_ts\n",
    "    at ./Driver/MESH_Driver/output_variables.f90:2078\n",
    "    #5  0x5ff384 in __output_variables_MOD_output_variables_update\n",
    "    at ./Driver/MESH_Driver/output_variables.f90:2530\n",
    "    #6  0x91e471 in runmesh\n",
    "    at ./Driver/MESH_Driver/MESH_driver.f90:847\n",
    "    #7  0x922ab2 in main\n",
    "    at ./Driver/MESH_Driver/MESH_driver.f90:97\n",
    "    Segmentation fault"
   ]
  },
  {
   "cell_type": "markdown",
   "id": "d7be58f6-8b5f-4e55-979c-d2845540c14a",
   "metadata": {
    "editable": true,
    "slideshow": {
     "slide_type": "slide"
    },
    "tags": []
   },
   "source": [
    "# Profiling"
   ]
  },
  {
   "cell_type": "code",
   "execution_count": 1,
   "id": "35c980fc-3239-4c15-963c-9ab8deb55258",
   "metadata": {
    "editable": true,
    "slideshow": {
     "slide_type": "skip"
    },
    "tags": []
   },
   "outputs": [],
   "source": [
    "# import libraries\n",
    "import pandas as pd\n",
    "import matplotlib.pyplot as plt\n",
    "\n",
    "import os\n",
    "import time"
   ]
  },
  {
   "cell_type": "markdown",
   "id": "9fad75d0-b233-4d17-8ebb-efe9c8de2c09",
   "metadata": {
    "editable": true,
    "slideshow": {
     "slide_type": "subslide"
    },
    "tags": []
   },
   "source": [
    "## Total CPU time"
   ]
  },
  {
   "cell_type": "markdown",
   "id": "1dadbb09-1719-412d-b6a4-513dd9051cef",
   "metadata": {
    "editable": true,
    "slideshow": {
     "slide_type": "fragment"
    },
    "tags": []
   },
   "source": [
    "Now, let's check the bottlenecks of `MESH` `r1860ME` version and its differences with `r1773`. Only 1 year of the `Fraser River Basin` setup was run in serial mode by each version."
   ]
  },
  {
   "cell_type": "code",
   "execution_count": 2,
   "id": "64530b54-c692-485c-81e6-b0ad69b2f444",
   "metadata": {
    "editable": true,
    "slideshow": {
     "slide_type": "skip"
    },
    "tags": []
   },
   "outputs": [],
   "source": [
    "# read the profiling results\n",
    "r1773 = pd.read_csv('./profiling-results/1773.csv')\n",
    "r1860me = pd.read_csv('./profiling-results/1860me.csv')"
   ]
  },
  {
   "cell_type": "markdown",
   "id": "9f724052-98ce-43bd-99e3-1a2dd6ae30a2",
   "metadata": {
    "editable": true,
    "slideshow": {
     "slide_type": "fragment"
    },
    "tags": []
   },
   "source": [
    "Determining total CPU time used by each version (not considering the wall time):"
   ]
  },
  {
   "cell_type": "code",
   "execution_count": 3,
   "id": "25f38691-a80a-4d61-a607-efa59d5b4824",
   "metadata": {
    "editable": true,
    "scrolled": true,
    "slideshow": {
     "slide_type": "fragment"
    },
    "tags": [
     "hide-input"
    ]
   },
   "outputs": [
    {
     "name": "stdout",
     "output_type": "stream",
     "text": [
      "r1773 used 04:58:08\n",
      "r1860me used 05:37:05\n"
     ]
    }
   ],
   "source": [
    "r1773_seconds = r1773['CPU Time'].sum()\n",
    "r1860me_seconds =  r1860me['CPU Time'].sum()\n",
    "\n",
    "convert = lambda seconds: time.strftime(\"%H:%M:%S\", time.gmtime(seconds))\n",
    "\n",
    "print(f'r1773 used {convert(r1773_seconds)}')\n",
    "print(f'r1860me used {convert(r1860me_seconds)}')"
   ]
  },
  {
   "cell_type": "markdown",
   "id": "b4ba7ad5-fa89-4d74-89b4-4f194cfcffd2",
   "metadata": {
    "editable": true,
    "slideshow": {
     "slide_type": "subslide"
    },
    "tags": []
   },
   "source": [
    "## Function call differences between `r1860ME` and `r1773`"
   ]
  },
  {
   "cell_type": "markdown",
   "id": "efe7ac93-4834-4307-9ce6-02c7f84904dd",
   "metadata": {
    "editable": true,
    "slideshow": {
     "slide_type": "fragment"
    },
    "tags": []
   },
   "source": [
    "Determining functions that are called/available in `r1860ME` but not in `r1773` plus seeing how much time they have used the CPU:"
   ]
  },
  {
   "cell_type": "code",
   "execution_count": 4,
   "id": "7145aa43-5b59-4864-9b8e-4275509638d3",
   "metadata": {
    "editable": true,
    "slideshow": {
     "slide_type": "skip"
    },
    "tags": []
   },
   "outputs": [],
   "source": [
    "diffs = r1860me[~r1860me.iloc[:,0].isin(r1773.iloc[:,0])].sort_values(by='CPU Time', axis='rows', ascending=False)"
   ]
  },
  {
   "cell_type": "markdown",
   "id": "0c754c8f-a525-48f1-8419-5e27673191cb",
   "metadata": {
    "editable": true,
    "slideshow": {
     "slide_type": "subslide"
    },
    "tags": []
   },
   "source": [
    "The top 6 **new** function calls of `r1860ME` with considerable computation time are listed in the following:"
   ]
  },
  {
   "cell_type": "code",
   "execution_count": 5,
   "id": "b5258625-bd0c-489f-9b84-9e4af5e5e90a",
   "metadata": {
    "editable": true,
    "slideshow": {
     "slide_type": ""
    },
    "tags": [
     "hide-input"
    ]
   },
   "outputs": [
    {
     "data": {
      "text/html": [
       "<div>\n",
       "<style scoped>\n",
       "    .dataframe tbody tr th:only-of-type {\n",
       "        vertical-align: middle;\n",
       "    }\n",
       "\n",
       "    .dataframe tbody tr th {\n",
       "        vertical-align: top;\n",
       "    }\n",
       "\n",
       "    .dataframe thead th {\n",
       "        text-align: right;\n",
       "    }\n",
       "</style>\n",
       "<table border=\"1\" class=\"dataframe\">\n",
       "  <thead>\n",
       "    <tr style=\"text-align: right;\">\n",
       "      <th></th>\n",
       "      <th>Source Function / Function / Call Stack</th>\n",
       "      <th>CPU Time</th>\n",
       "      <th>Module</th>\n",
       "      <th>Function (Full)</th>\n",
       "      <th>Source File</th>\n",
       "      <th>Start Address</th>\n",
       "    </tr>\n",
       "  </thead>\n",
       "  <tbody>\n",
       "    <tr>\n",
       "      <th>3</th>\n",
       "      <td>copy_field_scalar_to_scalar</td>\n",
       "      <td>1040.2800</td>\n",
       "      <td>[Unknown]</td>\n",
       "      <td>copy_field_scalar_to_scalar</td>\n",
       "      <td>field_utilities.f90</td>\n",
       "      <td>0</td>\n",
       "    </tr>\n",
       "    <tr>\n",
       "      <th>14</th>\n",
       "      <td>map_field_2d</td>\n",
       "      <td>576.4670</td>\n",
       "      <td>[Unknown]</td>\n",
       "      <td>map_field_2d</td>\n",
       "      <td>field_utilities.f90</td>\n",
       "      <td>0</td>\n",
       "    </tr>\n",
       "    <tr>\n",
       "      <th>19</th>\n",
       "      <td>func@0x151900</td>\n",
       "      <td>531.8390</td>\n",
       "      <td>[Unknown]</td>\n",
       "      <td>func@0x151900</td>\n",
       "      <td>[Unknown]</td>\n",
       "      <td>0</td>\n",
       "    </tr>\n",
       "    <tr>\n",
       "      <th>26</th>\n",
       "      <td>map_field_to_ranked_output</td>\n",
       "      <td>193.3040</td>\n",
       "      <td>[Unknown]</td>\n",
       "      <td>map_field_to_ranked_output</td>\n",
       "      <td>mesh_io.F90</td>\n",
       "      <td>0</td>\n",
       "    </tr>\n",
       "    <tr>\n",
       "      <th>55</th>\n",
       "      <td>func@0x40c720</td>\n",
       "      <td>28.0808</td>\n",
       "      <td>[Unknown]</td>\n",
       "      <td>func@0x40c720</td>\n",
       "      <td>[Unknown]</td>\n",
       "      <td>0</td>\n",
       "    </tr>\n",
       "    <tr>\n",
       "      <th>56</th>\n",
       "      <td>read_frame_from_file</td>\n",
       "      <td>26.1351</td>\n",
       "      <td>[Unknown]</td>\n",
       "      <td>read_frame_from_file</td>\n",
       "      <td>mesh_io.F90</td>\n",
       "      <td>0</td>\n",
       "    </tr>\n",
       "  </tbody>\n",
       "</table>\n",
       "</div>"
      ],
      "text/plain": [
       "   Source Function / Function / Call Stack   CPU Time     Module  \\\n",
       "3              copy_field_scalar_to_scalar  1040.2800  [Unknown]   \n",
       "14                            map_field_2d   576.4670  [Unknown]   \n",
       "19                           func@0x151900   531.8390  [Unknown]   \n",
       "26              map_field_to_ranked_output   193.3040  [Unknown]   \n",
       "55                           func@0x40c720    28.0808  [Unknown]   \n",
       "56                    read_frame_from_file    26.1351  [Unknown]   \n",
       "\n",
       "                Function (Full)          Source File  Start Address  \n",
       "3   copy_field_scalar_to_scalar  field_utilities.f90              0  \n",
       "14                 map_field_2d  field_utilities.f90              0  \n",
       "19                func@0x151900            [Unknown]              0  \n",
       "26   map_field_to_ranked_output          mesh_io.F90              0  \n",
       "55                func@0x40c720            [Unknown]              0  \n",
       "56         read_frame_from_file          mesh_io.F90              0  "
      ]
     },
     "execution_count": 5,
     "metadata": {},
     "output_type": "execute_result"
    }
   ],
   "source": [
    "diffs.head(6)"
   ]
  },
  {
   "cell_type": "markdown",
   "id": "6ce34928-9e0e-4db9-9ef1-e0e3eaf21a8d",
   "metadata": {
    "editable": true,
    "slideshow": {
     "slide_type": "fragment"
    },
    "tags": []
   },
   "source": [
    "From the profiling analysis, the top 10 function calls introduced newly in `r1860ME` can explain the time difference of ~40 minutes:"
   ]
  },
  {
   "cell_type": "code",
   "execution_count": 9,
   "id": "f5f57434-adef-4ddd-957f-c301244ecd8e",
   "metadata": {
    "editable": true,
    "slideshow": {
     "slide_type": "fragment"
    },
    "tags": [
     "hide-input"
    ]
   },
   "outputs": [
    {
     "name": "stdout",
     "output_type": "stream",
     "text": [
      "New function calls in r1860ME are responsible for 00:40:12\n"
     ]
    }
   ],
   "source": [
    "print(f'New function calls in r1860ME are responsible for {convert(diffs.head(n = 10).loc[:, 'CPU Time'].sum())}')"
   ]
  },
  {
   "cell_type": "markdown",
   "id": "4e0feb25-aaab-49b9-8cb2-5ee25dbbd04e",
   "metadata": {
    "editable": true,
    "slideshow": {
     "slide_type": "subslide"
    },
    "tags": []
   },
   "source": [
    "It seems that the following stacks/files added in `r1860ME` are mostly in charge of the differences:"
   ]
  },
  {
   "cell_type": "code",
   "execution_count": 10,
   "id": "7281ab41-7e19-4f8a-a9e2-894a5fb4cce8",
   "metadata": {
    "editable": true,
    "slideshow": {
     "slide_type": "fragment"
    },
    "tags": [
     "hide-input"
    ]
   },
   "outputs": [
    {
     "name": "stdout",
     "output_type": "stream",
     "text": [
      "Function calls: \n",
      "field_utilities.f90, \n",
      "mesh_io.F90, \n",
      "sa_mesh_run_within_grid.f90, \n",
      "variable_maps.f90 \n"
     ]
    }
   ],
   "source": [
    "print(f\"Function calls: \\n{', \\n'.join(f for f in diffs.head(n=10).loc[:, 'Source File'].unique() if f != '[Unknown]')} \")"
   ]
  },
  {
   "cell_type": "markdown",
   "id": "18542003-c115-47a6-b67e-49e3a186ddc5",
   "metadata": {
    "editable": true,
    "slideshow": {
     "slide_type": "subslide"
    },
    "tags": []
   },
   "source": [
    "## Analysis of common function calls in `r1860ME` and `r1773`"
   ]
  },
  {
   "cell_type": "code",
   "execution_count": 11,
   "id": "b2815112-bfd8-4fd6-95ca-bc1b71f1f658",
   "metadata": {
    "editable": true,
    "slideshow": {
     "slide_type": "skip"
    },
    "tags": []
   },
   "outputs": [],
   "source": [
    "r1860me = r1860me.set_index('Source Function / Function / Call Stack').loc[:, 'CPU Time'].groupby('Source Function / Function / Call Stack').sum().sort_values(ascending=False)"
   ]
  },
  {
   "cell_type": "code",
   "execution_count": 12,
   "id": "5c5df550-410f-404e-95b9-bfb8e4ff09b2",
   "metadata": {
    "editable": true,
    "slideshow": {
     "slide_type": "skip"
    },
    "tags": []
   },
   "outputs": [],
   "source": [
    "r1773 = r1773.set_index('Source Function / Function / Call Stack').loc[:, 'CPU Time'].groupby(['Source Function / Function / Call Stack']).sum().sort_values(ascending=False)"
   ]
  },
  {
   "cell_type": "code",
   "execution_count": 13,
   "id": "7db33f3d-d9b3-46b9-9e9c-e5ba4e547655",
   "metadata": {
    "editable": true,
    "slideshow": {
     "slide_type": "skip"
    },
    "tags": []
   },
   "outputs": [],
   "source": [
    "all = pd.merge(r1860me,\n",
    "               r1773,\n",
    "               left_index=True,\n",
    "               right_index=True,\n",
    "               how='inner',\n",
    "               suffixes=('_r1860me', '_r1773'),\n",
    "              )"
   ]
  },
  {
   "cell_type": "code",
   "execution_count": 14,
   "id": "4f04a207-a6bc-4b88-8507-4574627f0688",
   "metadata": {
    "editable": true,
    "slideshow": {
     "slide_type": "skip"
    },
    "tags": []
   },
   "outputs": [],
   "source": [
    "total_common_delay = (all['CPU Time_r1860me'] - all['CPU Time_r1773']).sum()"
   ]
  },
  {
   "cell_type": "markdown",
   "id": "ff58ac4b-00ef-45a5-8ea4-8c2da140f7bf",
   "metadata": {
    "editable": true,
    "slideshow": {
     "slide_type": "fragment"
    },
    "tags": []
   },
   "source": [
    "For the common functions calls shared between the two versions, the `r1860ME` is perfoming quite close to the `r1773` version. "
   ]
  },
  {
   "cell_type": "code",
   "execution_count": 15,
   "id": "d7752984-9f19-4a17-ae4d-0279628472f6",
   "metadata": {
    "editable": true,
    "slideshow": {
     "slide_type": "fragment"
    },
    "tags": [
     "hide-input"
    ]
   },
   "outputs": [
    {
     "name": "stdout",
     "output_type": "stream",
     "text": [
      "Overal common function calls in r1860ME are about 00:00:59 slower than r1773.\n"
     ]
    }
   ],
   "source": [
    "print(f'Overal common function calls in r1860ME are about {convert(total_common_delay)} slower than r1773.')"
   ]
  },
  {
   "cell_type": "markdown",
   "id": "a695063a-1244-45c4-9f03-cda3e3f94932",
   "metadata": {
    "editable": true,
    "slideshow": {
     "slide_type": "subslide"
    },
    "tags": []
   },
   "source": [
    "And, here is a list of top 10 common functions and their processing times in the two versions:"
   ]
  },
  {
   "cell_type": "code",
   "execution_count": 16,
   "id": "2f71e200-536d-4655-8e17-fd86564aae04",
   "metadata": {
    "editable": true,
    "slideshow": {
     "slide_type": "fragment"
    },
    "tags": [
     "hide-input"
    ]
   },
   "outputs": [
    {
     "data": {
      "text/html": [
       "<div>\n",
       "<style scoped>\n",
       "    .dataframe tbody tr th:only-of-type {\n",
       "        vertical-align: middle;\n",
       "    }\n",
       "\n",
       "    .dataframe tbody tr th {\n",
       "        vertical-align: top;\n",
       "    }\n",
       "\n",
       "    .dataframe thead th {\n",
       "        text-align: right;\n",
       "    }\n",
       "</style>\n",
       "<table border=\"1\" class=\"dataframe\">\n",
       "  <thead>\n",
       "    <tr style=\"text-align: right;\">\n",
       "      <th></th>\n",
       "      <th>CPU Time_r1860me</th>\n",
       "      <th>CPU Time_r1773</th>\n",
       "    </tr>\n",
       "    <tr>\n",
       "      <th>Source Function / Function / Call Stack</th>\n",
       "      <th></th>\n",
       "      <th></th>\n",
       "    </tr>\n",
       "  </thead>\n",
       "  <tbody>\n",
       "    <tr>\n",
       "      <th>classw</th>\n",
       "      <td>1396.490</td>\n",
       "      <td>1244.420</td>\n",
       "    </tr>\n",
       "    <tr>\n",
       "      <th>grdran</th>\n",
       "      <td>1083.770</td>\n",
       "      <td>990.855</td>\n",
       "    </tr>\n",
       "    <tr>\n",
       "      <th>runclass36_within_tile</th>\n",
       "      <td>1045.140</td>\n",
       "      <td>1183.150</td>\n",
       "    </tr>\n",
       "    <tr>\n",
       "      <th>wflow</th>\n",
       "      <td>955.822</td>\n",
       "      <td>956.044</td>\n",
       "    </tr>\n",
       "    <tr>\n",
       "      <th>tmcalc</th>\n",
       "      <td>886.655</td>\n",
       "      <td>890.895</td>\n",
       "    </tr>\n",
       "    <tr>\n",
       "      <th>__libm_powf_l9</th>\n",
       "      <td>791.024</td>\n",
       "      <td>671.511</td>\n",
       "    </tr>\n",
       "    <tr>\n",
       "      <th>aprep</th>\n",
       "      <td>773.889</td>\n",
       "      <td>817.789</td>\n",
       "    </tr>\n",
       "    <tr>\n",
       "      <th>flxsurfz</th>\n",
       "      <td>676.447</td>\n",
       "      <td>692.902</td>\n",
       "    </tr>\n",
       "    <tr>\n",
       "      <th>watrof</th>\n",
       "      <td>663.026</td>\n",
       "      <td>664.725</td>\n",
       "    </tr>\n",
       "    <tr>\n",
       "      <th>tsolvc</th>\n",
       "      <td>658.972</td>\n",
       "      <td>704.973</td>\n",
       "    </tr>\n",
       "  </tbody>\n",
       "</table>\n",
       "</div>"
      ],
      "text/plain": [
       "                                         CPU Time_r1860me  CPU Time_r1773\n",
       "Source Function / Function / Call Stack                                  \n",
       "classw                                           1396.490        1244.420\n",
       "grdran                                           1083.770         990.855\n",
       "runclass36_within_tile                           1045.140        1183.150\n",
       "wflow                                             955.822         956.044\n",
       "tmcalc                                            886.655         890.895\n",
       "__libm_powf_l9                                    791.024         671.511\n",
       "aprep                                             773.889         817.789\n",
       "flxsurfz                                          676.447         692.902\n",
       "watrof                                            663.026         664.725\n",
       "tsolvc                                            658.972         704.973"
      ]
     },
     "execution_count": 16,
     "metadata": {},
     "output_type": "execute_result"
    }
   ],
   "source": [
    "all.head(n=10)"
   ]
  },
  {
   "cell_type": "markdown",
   "id": "802ac659-76ce-4b65-9035-6733e5f067ee",
   "metadata": {
    "editable": true,
    "slideshow": {
     "slide_type": "subslide"
    },
    "tags": []
   },
   "source": [
    "## Overal module contributions in each version"
   ]
  },
  {
   "cell_type": "code",
   "execution_count": 18,
   "id": "7f900ef5-2359-47f7-887d-bbd34b197895",
   "metadata": {
    "editable": true,
    "slideshow": {
     "slide_type": "skip"
    },
    "tags": []
   },
   "outputs": [],
   "source": [
    "td_1773 = pd.read_csv('./profiling-results/top-down_1773.csv')\n",
    "td_1860me = pd.read_csv('./profiling-results/top-down_1860.csv')"
   ]
  },
  {
   "cell_type": "markdown",
   "id": "5505d9c8-c6d5-43eb-9a1d-ca57c7310033",
   "metadata": {
    "editable": true,
    "slideshow": {
     "slide_type": ""
    },
    "tags": []
   },
   "source": [
    "Here, you can see the percentage (%) of each module within `MESH` `r1773` taking over the total computation:"
   ]
  },
  {
   "cell_type": "code",
   "execution_count": 57,
   "id": "5961ddeb-b40b-4de0-bf16-86c6dbc361ba",
   "metadata": {
    "editable": true,
    "slideshow": {
     "slide_type": "fragment"
    },
    "tags": [
     "hide-input"
    ]
   },
   "outputs": [
    {
     "data": {
      "text/plain": [
       "Function Stack\n",
       "    runmesh                        100.000000\n",
       "     run_within_tile                94.030769\n",
       "     run_between_grid                3.043447\n",
       "     run_within_grid                 2.192695\n",
       "     climate_module_update_data      0.648610\n",
       "     output_variables_reset          0.068582\n",
       "     run_save_basin_output           0.007378\n",
       "     read_initial_inputs             0.003298\n",
       "     run_within_tile_init            0.001453\n",
       "     run_within_tile_finalize        0.001342\n",
       "Name: CPU Time: Total, dtype: float64"
      ]
     },
     "execution_count": 57,
     "metadata": {},
     "output_type": "execute_result"
    }
   ],
   "source": [
    "(td_1773.set_index('Function Stack').loc[:, 'CPU Time: Total']/17888.4*100).iloc[4:].head(10)"
   ]
  },
  {
   "cell_type": "markdown",
   "id": "ebdcbf2d-61e4-4cc6-9e30-445e4aa6afda",
   "metadata": {
    "editable": true,
    "slideshow": {
     "slide_type": "subslide"
    },
    "tags": []
   },
   "source": [
    "And, also for `r1860ME`:"
   ]
  },
  {
   "cell_type": "code",
   "execution_count": 59,
   "id": "fc0b91d0-fb3a-4929-b97c-b6a64be98135",
   "metadata": {
    "editable": true,
    "slideshow": {
     "slide_type": "fragment"
    },
    "tags": [
     "hide-input"
    ]
   },
   "outputs": [
    {
     "data": {
      "text/plain": [
       "Function Stack\n",
       "    runmesh                      100.000000\n",
       "     run_within_tile              82.421842\n",
       "     read_input_forcing_frame     12.110546\n",
       "     run_within_grid               2.706731\n",
       "     run_between_grid              2.698741\n",
       "     output_variables_reset        0.046276\n",
       "     run_save_basin_output         0.006081\n",
       "     read_initial_inputs           0.003263\n",
       "     open_input_forcing_files      0.002670\n",
       "     run_within_tile_finalize      0.001187\n",
       "Name: CPU Time: Total, dtype: float64"
      ]
     },
     "execution_count": 59,
     "metadata": {},
     "output_type": "execute_result"
    }
   ],
   "source": [
    "(td_1860me.set_index('Function Stack').loc[:, 'CPU Time: Total']/20225.1*100).iloc[4:].head(10)"
   ]
  },
  {
   "cell_type": "markdown",
   "id": "74df92e1-6390-4914-8edd-06f382b9ab10",
   "metadata": {
    "editable": true,
    "slideshow": {
     "slide_type": "slide"
    },
    "tags": []
   },
   "source": [
    "# Final notes"
   ]
  },
  {
   "cell_type": "markdown",
   "id": "c69f9f8b-214b-4623-9c7d-063a404f0bcb",
   "metadata": {
    "editable": true,
    "slideshow": {
     "slide_type": "fragment"
    },
    "tags": []
   },
   "source": [
    "It seems that the `I/O` processes are causing the newer version to take more time to complete, and therefore, there is a difference in the computation time."
   ]
  },
  {
   "cell_type": "markdown",
   "id": "7a684483-8234-445a-acdd-cc15b35a758e",
   "metadata": {
    "editable": true,
    "slideshow": {
     "slide_type": "fragment"
    },
    "tags": []
   },
   "source": [
    "There are many other details hidden in the profiling results and they could be shared with you. Let me know if you need to have access to them."
   ]
  },
  {
   "cell_type": "markdown",
   "id": "04be6bac-ee7c-464f-82ab-512b38c6fa56",
   "metadata": {
    "editable": true,
    "slideshow": {
     "slide_type": "fragment"
    },
    "tags": []
   },
   "source": [
    "Profiling results are done using `vtune/2020.1` on DRA Graham."
   ]
  }
 ],
 "metadata": {
  "kernelspec": {
   "display_name": "scienv",
   "language": "python",
   "name": "scienv"
  },
  "language_info": {
   "codemirror_mode": {
    "name": "ipython",
    "version": 3
   },
   "file_extension": ".py",
   "mimetype": "text/x-python",
   "name": "python",
   "nbconvert_exporter": "python",
   "pygments_lexer": "ipython3",
   "version": "3.12.0"
  }
 },
 "nbformat": 4,
 "nbformat_minor": 5
}
